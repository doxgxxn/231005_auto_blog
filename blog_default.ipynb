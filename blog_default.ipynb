{
 "cells": [
  {
   "cell_type": "markdown",
   "metadata": {},
   "source": [
    "### 블로그 글 작성 주제 선정\n",
    "\n",
    "넷플릭스 : 넷플릭스는 영화의 평점과 후기를 앱에서 보여주지 않기 때문에 사람들이 직접 검색해서 후기를 찾아볼 것이다  \n",
    "netflix ranking site : \"https://flixpatrol.com/top10/netflix/south-korea/\"\n",
    "\n",
    "problem\n",
    "1. movie 명이 영어로 되있어서 한글로 번역해야하는데 단순 번역이 안맞음\n",
    "2. 같은 이름을 가진 영화들의 전처리 필요\n",
    "3. 사진을 같이 업로드해야함\n",
    "--- 영화 블로그는 정교한 분석을 필요로하고 같은 영화 이름을 처리하거나 사진을 찾는 것이 어려움\n",
    "\n",
    "음식 : 현재 사람들이 많이 주문하는 음식들의 효능 및 부작용을 작성하는 블로그글 , 추후 쿠팡 파트너스 연계로 수익화\n",
    "\n",
    "1. 식품 크롤링하여 선택\n",
    "\n",
    "        problem\n",
    "                1. 쿠팡 > 식품 >  과일 탭에서 쿠팡 추천 랭킹순 크롤링 url = \"https://www.coupang.com/np/categories/194282\" -> 쿠팡 웹페이지 런타임 오류 \n",
    "                2. 쿠팡 웹페이지 런타임 오류 -> 마켓컬리로 변경 url = \"https://www.kurly.com/collections/market-best\"\n",
    "                3. 마켓컬리도 크롤링은 막아놓은 듯 함.. 재접속이나 페이지 이동시 런타임 오류 현상 발생\n",
    "                4. 네이버 쇼핑 -> 품목의 이름이 너무 복잡함 ex) 40년 단감 태추단감 감 부유 고당도 대봉 홍시 진영단감 선물세트..\n",
    "        \n",
    "\n",
    "        -> 11번가로 크롤링 결정\n",
    "                ex) ['[최종가5,900원]해물오꼬노미야끼', '밀키트', '2인분'] ['최종', '해물', '꼬', '노미', '끼', '밀', '키트', '인분']\n",
    "                키워드를 뽑는 알고리즘을 뽑아 내야함 \n",
    "                방법 1. 상세 페이지 내에서 나온 단어 수를 count 하여 중요도 결정 및 그래프를 보며 알고리즘 수정\n",
    "\n",
    "2. 이름, 이미지 크롤링\n",
    "3. 이름 -> chatgpt로 script 생성\n",
    "4. 블로그에 script, 이미지 적용\n",
    "5. script내에서 tag 추출, tag 적용\n",
    "6. 업로드\n",
    "\n",
    "\n",
    "\n",
    "### 블로그 글 chatgpt openai로 생성\n",
    "\n",
    "### 생성된 글을 네이버 블로그에 작성\n",
    "\n",
    "### 추후 블로그 성장률에 따른 글 작성 방법 수정\n",
    "\n",
    "general problem \n",
    "1. chatgpt의 openai의 토큰이 쉽게 넘어가 유료 플랜을 사용해야함 -> gui로 직접 사용"
   ]
  },
  {
   "cell_type": "code",
   "execution_count": 1,
   "metadata": {},
   "outputs": [],
   "source": [
    "import requests\n",
    "from bs4 import BeautifulSoup\n",
    "from selenium import webdriver\n",
    "from selenium.webdriver.common.by import By\n",
    "\n",
    "from selenium.webdriver.chrome.options import Options\n",
    "import time\n",
    "import re\n",
    "import pandas as pd\n",
    "import matplotlib.pyplot as plt\n",
    "\n",
    "plt.rcParams['font.family'] = 'Malgun Gothic'\n",
    "plt.rcParams['axes.unicode_minus'] = False\n",
    "plt.rcParams['figure.figsize'] = (6, 3)\n",
    "plt.rcParams['font.size'] = 12"
   ]
  },
  {
   "cell_type": "code",
   "execution_count": 2,
   "metadata": {},
   "outputs": [],
   "source": [
    "from konlpy.tag import Okt"
   ]
  },
  {
   "cell_type": "code",
   "execution_count": 3,
   "metadata": {},
   "outputs": [],
   "source": [
    "import os\n",
    "os.environ['JAVA_HOME'] = \"C:\\Program Files\\Java\""
   ]
  },
  {
   "cell_type": "code",
   "execution_count": 4,
   "metadata": {},
   "outputs": [
    {
     "data": {
      "text/plain": [
       "['품질', '보장', '경북', '영천', '샤인', '머스켓']"
      ]
     },
     "execution_count": 4,
     "metadata": {},
     "output_type": "execute_result"
    }
   ],
   "source": [
    "okt = Okt()\n",
    "text = \"품질보장! 경북 영천 샤인머스켓 1kg\"\n",
    "okt.pos(text)\n",
    "okt.nouns(text)"
   ]
  },
  {
   "cell_type": "code",
   "execution_count": 69,
   "metadata": {},
   "outputs": [
    {
     "data": {
      "text/plain": [
       "[('씨', 'Noun'), ('없는', 'Adjective')]"
      ]
     },
     "execution_count": 69,
     "metadata": {},
     "output_type": "execute_result"
    }
   ],
   "source": [
    "okt.pos('씨없는')"
   ]
  },
  {
   "cell_type": "code",
   "execution_count": 5,
   "metadata": {},
   "outputs": [
    {
     "data": {
      "text/plain": [
       "'https://www.11st.co.kr/products/3871801519?inpu=&trTypeCd=22&trCtgrNo=895019'"
      ]
     },
     "execution_count": 5,
     "metadata": {},
     "output_type": "execute_result"
    }
   ],
   "source": [
    "url = \"https://www.11st.co.kr/browsing/BestSeller.tmall?method=getBestSellerMain&cornerNo=1\"\n",
    "res = requests.get(url)\n",
    "soup = BeautifulSoup(res.text, 'lxml')\n",
    "food_list = soup.find('div', class_=\"best_prd_box\").find_all('li')\n",
    "food_list[0].a['href']"
   ]
  },
  {
   "cell_type": "code",
   "execution_count": 6,
   "metadata": {},
   "outputs": [
    {
     "data": {
      "text/plain": [
       "'씨없는 청도 고당도 반시  5kg 50과내외 부드러운 홍시'"
      ]
     },
     "execution_count": 6,
     "metadata": {},
     "output_type": "execute_result"
    }
   ],
   "source": [
    "food_list[0].p.text.strip()"
   ]
  },
  {
   "cell_type": "code",
   "execution_count": 79,
   "metadata": {},
   "outputs": [
    {
     "name": "stdout",
     "output_type": "stream",
     "text": [
      "['https://www.11st.co.kr/products/5192752091?inpu=&trTypeCd=22&trCtgrNo=895019', 'https://www.11st.co.kr/products/2247363143?inpu=&trTypeCd=22&trCtgrNo=895019', 'https://www.11st.co.kr/products/3855314524?inpu=&trTypeCd=22&trCtgrNo=895019', 'https://www.11st.co.kr/products/5718874526?inpu=&trTypeCd=22&trCtgrNo=895019', 'https://www.11st.co.kr/products/4490313480?inpu=&trTypeCd=22&trCtgrNo=895019']\n",
      "['더진한 100% 닭다리살 양념닭갈비 300g x 4팩(1.2kg) 숯불닭갈비 양념불백 간장불백 메', '쟌슨빌 부대찌개 500g 2+2팩 (더진한/오리지널)', '[우체국쇼핑×어글리러블리]못난이 황금향 2.5kg, 4.5kg', '광림상회 호주산 소찜갈비, 2kg', '[최종가20,700원]하동녹차 명란김 24봉 3박스(총72봉)']\n"
     ]
    },
    {
     "data": {
      "text/plain": [
       "(None, None)"
      ]
     },
     "execution_count": 79,
     "metadata": {},
     "output_type": "execute_result"
    }
   ],
   "source": [
    "urls =[]\n",
    "names = []\n",
    "for food in food_list[5:10]:\n",
    "    urls.append(food.a['href'])\n",
    "    names.append(food.p.text.strip())\n",
    "\n",
    "print(urls), print(names)"
   ]
  },
  {
   "cell_type": "code",
   "execution_count": 80,
   "metadata": {},
   "outputs": [
    {
     "data": {
      "text/plain": [
       "'더진한 100% 닭다리살 양념닭갈비 300g x 4팩(1.2kg) 숯불닭갈비 양념불백 간장불백 메'"
      ]
     },
     "execution_count": 80,
     "metadata": {},
     "output_type": "execute_result"
    }
   ],
   "source": [
    "names[0]"
   ]
  },
  {
   "cell_type": "code",
   "execution_count": 81,
   "metadata": {},
   "outputs": [
    {
     "name": "stdout",
     "output_type": "stream",
     "text": [
      "더진한\n",
      "닭다리살\n",
      "양념닭갈비\n",
      "숯불닭갈비\n",
      "양념불백\n",
      "간장불백\n",
      "쟌슨빌\n",
      "부대찌개\n",
      "황금향\n",
      "광림상회\n",
      "호주산\n",
      "소찜갈비,\n",
      "명란김\n"
     ]
    }
   ],
   "source": [
    "refined_name = []\n",
    "for i in names:\n",
    "    bucket =[]\n",
    "    for j in i.split():\n",
    "        if j[0].isalpha() and len(j) > 1:\n",
    "            bucket.append(j)\n",
    "            print(j)\n",
    "    refined_name.append(bucket)\n",
    "\n"
   ]
  },
  {
   "cell_type": "code",
   "execution_count": 82,
   "metadata": {},
   "outputs": [
    {
     "name": "stdout",
     "output_type": "stream",
     "text": [
      "더진한\n",
      "닭다리살\n",
      "양념닭갈비\n",
      "숯불닭갈비\n",
      "양념불백\n",
      "간장불백\n"
     ]
    }
   ],
   "source": [
    "for i in refined_name[0]:\n",
    "    print(' '.join(i.split()))"
   ]
  },
  {
   "cell_type": "code",
   "execution_count": 83,
   "metadata": {},
   "outputs": [
    {
     "data": {
      "text/plain": [
       "[['더진한', '닭다리살', '양념닭갈비', '숯불닭갈비', '양념불백', '간장불백'],\n",
       " ['쟌슨빌', '부대찌개'],\n",
       " ['황금향'],\n",
       " ['광림상회', '호주산', '소찜갈비,'],\n",
       " ['명란김']]"
      ]
     },
     "execution_count": 83,
     "metadata": {},
     "output_type": "execute_result"
    }
   ],
   "source": [
    "refined_name"
   ]
  },
  {
   "cell_type": "code",
   "execution_count": 84,
   "metadata": {},
   "outputs": [
    {
     "data": {
      "text/plain": [
       "'https://www.11st.co.kr/products/5192752091?inpu=&trTypeCd=22&trCtgrNo=895019'"
      ]
     },
     "execution_count": 84,
     "metadata": {},
     "output_type": "execute_result"
    }
   ],
   "source": [
    "urls[0]"
   ]
  },
  {
   "cell_type": "code",
   "execution_count": 85,
   "metadata": {},
   "outputs": [
    {
     "name": "stdout",
     "output_type": "stream",
     "text": [
      "scroll Done! 1 번째\n",
      "scroll Done! 2 번째\n",
      "scroll Done! 3 번째\n",
      "scroll Done! 4 번째\n",
      "scroll Done! 5 번째\n"
     ]
    },
    {
     "data": {
      "image/png": "[encoded data removed]",
      "text/plain": [
       "<Figure size 800x1200 with 5 Axes>"
      ]
     },
     "metadata": {},
     "output_type": "display_data"
    }
   ],
   "source": [
    "# 동적 스크립트 아래까지 모두 보이게 스크롤\n",
    "fig, axes = plt.subplots(5, 1, figsize=(8, 12))\n",
    "for idx, (url, name) in enumerate(zip(urls, refined_name)):\n",
    "\n",
    "    browser = webdriver.Chrome()\n",
    "    browser.get(url)\n",
    "\n",
    "    pre_height = browser.execute_script('return document.body.scrollHeight')\n",
    "\n",
    "    # 스크롤\n",
    "    while True:\n",
    "        browser.execute_script('window.scrollTo(0, document.body.scrollHeight);')\n",
    "        time.sleep(1)\n",
    "\n",
    "        curr_height = browser.execute_script('return document.body.scrollHeight')\n",
    "\n",
    "        if curr_height == pre_height:\n",
    "            break\n",
    "        pre_height = curr_height\n",
    "        \n",
    "    print(f'scroll Done! {idx + 1} 번째')\n",
    "\n",
    "    soup = BeautifulSoup(browser.page_source, 'lxml')\n",
    "\n",
    "    # 전체 스크립트로 빈도수 찾기\n",
    "    full_text = re.sub(r'\\s+', ' ',soup.text).strip()\n",
    "\n",
    "    # 시각화로 비교\n",
    "    food_count = {}\n",
    "    for i in (name):\n",
    "            food_count[i] = full_text.count(i)\n",
    "\n",
    "    pd.Series(food_count).sort_values(ascending=True)[-10:].plot(kind='barh', ax=axes[idx])\n",
    "    axes[idx].set_title(' '.join(name))\n",
    "        \n",
    "plt.tight_layout()\n",
    "plt.show()\n",
    "\n"
   ]
  },
  {
   "cell_type": "code",
   "execution_count": 86,
   "metadata": {},
   "outputs": [],
   "source": [
    "except_list = ['볶음']"
   ]
  },
  {
   "cell_type": "code",
   "execution_count": 87,
   "metadata": {},
   "outputs": [
    {
     "name": "stdout",
     "output_type": "stream",
     "text": [
      "0 쟌슨빌\n",
      "0 부대찌개\n",
      "8 팩\n",
      "3 리지\n",
      "3 널\n",
      "--------------------------------------------------\n",
      "0 쟌슨빌\n",
      "0 부대찌개\n",
      "6 500g\n",
      "0 2+2팩\n",
      "0 (더진한/오리지널)\n"
     ]
    }
   ],
   "source": [
    "############## test part\n",
    "\n",
    "for i in okt.nouns(names[1]):\n",
    "    print(full_text.count(i), i)\n",
    "print('-'*50)\n",
    "for i in names[1].split():\n",
    "    print(full_text.count(i), i)"
   ]
  },
  {
   "cell_type": "code",
   "execution_count": 88,
   "metadata": {},
   "outputs": [
    {
     "data": {
      "text/plain": [
       "<Axes: >"
      ]
     },
     "execution_count": 88,
     "metadata": {},
     "output_type": "execute_result"
    },
    {
     "data": {
      "image/png": "[encoded data removed]",
      "text/plain": [
       "<Figure size 600x300 with 1 Axes>"
      ]
     },
     "metadata": {},
     "output_type": "display_data"
    }
   ],
   "source": [
    "import matplotlib.pyplot as plt\n",
    "plt.rcParams['font.family'] = 'Malgun Gothic'\n",
    "\n",
    "pd.Series(food_count).sort_values(ascending=True)[-10:].plot(kind='barh')\n",
    "\n"
   ]
  }
 ],
 "metadata": {
  "kernelspec": {
   "display_name": "Python 3",
   "language": "python",
   "name": "python3"
  },
  "language_info": {
   "codemirror_mode": {
    "name": "ipython",
    "version": 3
   },
   "file_extension": ".py",
   "mimetype": "text/x-python",
   "name": "python",
   "nbconvert_exporter": "python",
   "pygments_lexer": "ipython3",
   "version": "3.11.1"
  },
  "orig_nbformat": 4
 },
 "nbformat": 4,
 "nbformat_minor": 2
}
