{
 "cells": [
  {
   "cell_type": "code",
   "execution_count": 407,
   "metadata": {},
   "outputs": [],
   "source": [
    "import requests\n",
    "from bs4 import BeautifulSoup\n",
    "from selenium import webdriver\n",
    "from selenium.webdriver.common.by import By\n",
    "\n",
    "from selenium.webdriver.chrome.options import Options\n",
    "import time\n",
    "import re\n",
    "import pandas as pd\n",
    "import matplotlib.pyplot as plt\n",
    "\n",
    "plt.rcParams['font.family'] = 'Malgun Gothic'\n",
    "plt.rcParams['axes.unicode_minus'] = False\n",
    "plt.rcParams['figure.figsize'] = (6, 3)\n",
    "plt.rcParams['font.size'] = 12\n",
    "\n",
    "import pyautogui as pg\n",
    "import keyboard\n",
    "import clipboard\n",
    "import time\n",
    "import random\n"
   ]
  },
  {
   "cell_type": "code",
   "execution_count": null,
   "metadata": {},
   "outputs": [],
   "source": []
  },
  {
   "cell_type": "code",
   "execution_count": 408,
   "metadata": {},
   "outputs": [],
   "source": [
    "headers = {'User-agent':\"Mozilla/5.0 (Windows NT 10.0; Win64; x64) AppleWebKit/537.36 (KHTML, like Gecko) Chrome/118.0.0.0 Safari/537.36\"}"
   ]
  },
  {
   "cell_type": "code",
   "execution_count": 409,
   "metadata": {},
   "outputs": [
    {
     "data": {
      "text/plain": [
       "'https://www.11st.co.kr/products/5303059740?inpu=&trTypeCd=22&trCtgrNo=895019'"
      ]
     },
     "execution_count": 409,
     "metadata": {},
     "output_type": "execute_result"
    }
   ],
   "source": [
    "url = \"https://www.11st.co.kr/browsing/BestSeller.tmall?method=getBestSellerMain&cornerNo=1\"\n",
    "res = requests.get(url, headers=headers)\n",
    "soup = BeautifulSoup(res.text, 'lxml')\n",
    "food_list = soup.find('div', class_=\"best_prd_box\").find_all('li')\n",
    "food_list[0].a['href']"
   ]
  },
  {
   "cell_type": "code",
   "execution_count": 410,
   "metadata": {},
   "outputs": [
    {
     "data": {
      "text/plain": [
       "'[푸라닭치킨](1팩1780원+사은품) 통 닭다리/닭가슴살/닭다리살/볶음밥 모음전'"
      ]
     },
     "execution_count": 410,
     "metadata": {},
     "output_type": "execute_result"
    }
   ],
   "source": [
    "food_list[0].p.text.strip()"
   ]
  },
  {
   "cell_type": "code",
   "execution_count": 411,
   "metadata": {},
   "outputs": [],
   "source": [
    "urls =[]\n",
    "names = []\n",
    "for food in food_list[:10]:\n",
    "    urls.append(food.a['href'])\n",
    "    names.append(food.p.text.strip())"
   ]
  },
  {
   "cell_type": "code",
   "execution_count": 412,
   "metadata": {},
   "outputs": [
    {
     "data": {
      "text/plain": [
       "'[푸라닭치킨](1팩1780원+사은품) 통 닭다리/닭가슴살/닭다리살/볶음밥 모음전'"
      ]
     },
     "execution_count": 412,
     "metadata": {},
     "output_type": "execute_result"
    }
   ],
   "source": [
    "names[0]"
   ]
  },
  {
   "cell_type": "code",
   "execution_count": 413,
   "metadata": {},
   "outputs": [],
   "source": [
    "refined_name = []\n",
    "for i in names:\n",
    "    bucket =[]\n",
    "    for j in i.split():\n",
    "        if j[0].isalpha() and len(j) > 1:\n",
    "            bucket.append(j)\n",
    "    refined_name.append(' '.join(bucket))\n",
    "\n"
   ]
  },
  {
   "cell_type": "code",
   "execution_count": 414,
   "metadata": {},
   "outputs": [],
   "source": [
    "keyword = \"장류\"\n",
    "\n",
    "\n",
    "parts = keyword.split()\n",
    "\n",
    "if \"기타\" in parts:\n",
    "    parts.remove(\"기타\")\n",
    "    keyword = \" \".join(parts)\n",
    "else:\n",
    "    pass\n"
   ]
  },
  {
   "cell_type": "code",
   "execution_count": 415,
   "metadata": {},
   "outputs": [
    {
     "name": "stdout",
     "output_type": "stream",
     "text": [
      "사진 없음\n",
      "사진 없음\n",
      "사진 없음\n",
      "감귤\n",
      "https://i.namu.wiki/i/nQ2O0NoS0bIsNTGSr_w_pe3FX51ugL5tNdfKsr_SjPTw3VrR4JKsYv2MRZxXjZDEmxeO_w9Ga0dJ3wWr15M7VghEZjccoI5zADPew9aXqSNri20bZ6de1ZWmBAiHlyTvwypNszdhq1Cr94ywp1qTIQ.webp\n",
      "done\n"
     ]
    }
   ],
   "source": [
    "for i in range(10):\n",
    "\n",
    "    today_name = refined_name[i]\n",
    "    today_url = urls[i]\n",
    "\n",
    "    res = requests.get(today_url)\n",
    "    soup = BeautifulSoup(res.text, 'html.parser')\n",
    "    keyword = soup.find('meta', attrs={'name':'keyword'})['content'].strip().split('>')[-1]\n",
    "\n",
    "    # '기타' 문자 제거\n",
    "    parts = keyword.split()\n",
    "    if \"기타\" in parts:\n",
    "        parts.remove(\"기타\")\n",
    "        keyword = \" \".join(parts)\n",
    "    else:\n",
    "        pass\n",
    "\n",
    "\n",
    "\n",
    "    res = requests.get(f'https://namu.wiki/w/{keyword}',headers=headers)\n",
    "    soup = BeautifulSoup(res.text, 'html.parser')\n",
    "\n",
    "    if soup.find('img', class_='vIrqy6Di'):\n",
    "\n",
    "        if soup.find('img', class_='vIrqy6Di')['alt'] == '다른 뜻 아이콘':\n",
    "            print('사진 없음')\n",
    "            continue\n",
    "\n",
    "        print(keyword)\n",
    "\n",
    "        try: \n",
    "            img = 'https:' + soup.find('img', class_='vIrqy6Di')['data-src']\n",
    "            print(img)\n",
    "            print('done')\n",
    "            break\n",
    "\n",
    "        except Exception as e:\n",
    "            print(e, 'haha')\n",
    "            continue\n",
    "    else:\n",
    "        continue\n"
   ]
  },
  {
   "cell_type": "code",
   "execution_count": 416,
   "metadata": {},
   "outputs": [
    {
     "data": {
      "text/plain": [
       "'https://i.namu.wiki/i/nQ2O0NoS0bIsNTGSr_w_pe3FX51ugL5tNdfKsr_SjPTw3VrR4JKsYv2MRZxXjZDEmxeO_w9Ga0dJ3wWr15M7VghEZjccoI5zADPew9aXqSNri20bZ6de1ZWmBAiHlyTvwypNszdhq1Cr94ywp1qTIQ.webp'"
      ]
     },
     "execution_count": 416,
     "metadata": {},
     "output_type": "execute_result"
    }
   ],
   "source": [
    "img"
   ]
  },
  {
   "cell_type": "code",
   "execution_count": 425,
   "metadata": {},
   "outputs": [],
   "source": [
    "# 크롬이미지 확인 및 선택\n",
    "chrome = pg.locateOnScreen('./images/chrome.png',confidence = 0.9)\n",
    "pg.click(chrome)\n",
    "\n",
    "loading = None\n",
    "while not loading:\n",
    "    loading = pg.locateOnScreen('./images/loading.png',confidence = 0.7)\n",
    "    time.sleep(0.3)\n",
    "\n",
    "# gpt이미지\n",
    "gpt = pg.locateOnScreen('./images/chatgpt.png',confidence = 0.7)\n",
    "pg.click(gpt)\n",
    "\n",
    "\n",
    "# 화면 크기 150%\n",
    "start = None\n",
    "while not start:\n",
    "    start = pg.locateOnScreen('./images/start.png',confidence = 0.6)\n",
    "    time.sleep(0.3)\n",
    "\n",
    "time.sleep(random.uniform(0.5,0.8))\n",
    "\n",
    "pg.click(start)\n",
    "\n",
    "time.sleep(random.uniform(1,2))\n",
    "\n",
    "# 질문\n",
    "text = f'({today_name})이 것의 메인 재료로 블로그 글을 작성해줘 (제목: )과 (본문: )형식으로 나누고 효능과 부작용 기타 지식 해시태그를 1500자 분량으로 적어줘'\n",
    "clipboard.copy(text)\n",
    "pg.hotkey('ctrl','v')\n",
    "pg.press('enter')\n",
    "\n",
    "# 대답이 나올 때까지 대기\n",
    "where = None\n",
    "while not where:\n",
    "    where = pg.locateOnScreen('./images/done.png')\n",
    "    time.sleep(0.5)\n",
    "\n",
    "# 상단 이동\n",
    "\n",
    "pg.click(x=1058, y=339)\n",
    "time.sleep(0.3)\n",
    "pg.press('home')\n",
    "time.sleep(3)\n",
    "\n",
    "copy = None\n",
    "while not copy:\n",
    "    copy = pg.locateOnScreen('./images/copy.png')\n",
    "    time.sleep(0.3)\n",
    "\n",
    "pg.click(copy)"
   ]
  },
  {
   "cell_type": "code",
   "execution_count": 426,
   "metadata": {},
   "outputs": [
    {
     "data": {
      "text/plain": [
       "' )형식으로 나누고 효능과 부작용 기타 지식 해시태그를 1500자 분량으로 적어줘'"
      ]
     },
     "execution_count": 426,
     "metadata": {},
     "output_type": "execute_result"
    }
   ],
   "source": [
    "match = re.search(r'본문:(.*)', text, re.DOTALL)\n",
    "match.group(1)"
   ]
  },
  {
   "cell_type": "code",
   "execution_count": 427,
   "metadata": {},
   "outputs": [
    {
     "ename": "ValueError",
     "evalue": "not enough values to unpack (expected 2, got 1)",
     "output_type": "error",
     "traceback": [
      "\u001b[1;31m---------------------------------------------------------------------------\u001b[0m",
      "\u001b[1;31mValueError\u001b[0m                                Traceback (most recent call last)",
      "\u001b[1;32mc:\\Users\\user\\Desktop\\blog\\auto_blog\\blog_gui.ipynb Cell 14\u001b[0m line \u001b[0;36m1\n\u001b[0;32m      <a href='vscode-notebook-cell:/c%3A/Users/user/Desktop/blog/auto_blog/blog_gui.ipynb#Y116sZmlsZQ%3D%3D?line=7'>8</a>\u001b[0m match \u001b[39m=\u001b[39m re\u001b[39m.\u001b[39msearch(\u001b[39mr\u001b[39m\u001b[39m'\u001b[39m\u001b[39m본문:(.*)\u001b[39m\u001b[39m'\u001b[39m, text, re\u001b[39m.\u001b[39mDOTALL)\n\u001b[0;32m     <a href='vscode-notebook-cell:/c%3A/Users/user/Desktop/blog/auto_blog/blog_gui.ipynb#Y116sZmlsZQ%3D%3D?line=9'>10</a>\u001b[0m \u001b[39mif\u001b[39;00m match:\n\u001b[1;32m---> <a href='vscode-notebook-cell:/c%3A/Users/user/Desktop/blog/auto_blog/blog_gui.ipynb#Y116sZmlsZQ%3D%3D?line=10'>11</a>\u001b[0m     content, hashtag \u001b[39m=\u001b[39m match\u001b[39m.\u001b[39mgroup(\u001b[39m1\u001b[39m)\u001b[39m.\u001b[39msplit(\u001b[39m'\u001b[39m\u001b[39m#\u001b[39m\u001b[39m'\u001b[39m, \u001b[39m1\u001b[39m)\n\u001b[0;32m     <a href='vscode-notebook-cell:/c%3A/Users/user/Desktop/blog/auto_blog/blog_gui.ipynb#Y116sZmlsZQ%3D%3D?line=11'>12</a>\u001b[0m     hashtag \u001b[39m=\u001b[39m \u001b[39m'\u001b[39m\u001b[39m#\u001b[39m\u001b[39m'\u001b[39m\u001b[39m+\u001b[39mhashtag\n\u001b[0;32m     <a href='vscode-notebook-cell:/c%3A/Users/user/Desktop/blog/auto_blog/blog_gui.ipynb#Y116sZmlsZQ%3D%3D?line=12'>13</a>\u001b[0m     hashtag \u001b[39m=\u001b[39m hashtag[:hashtag\u001b[39m.\u001b[39mrfind(\u001b[39m'\u001b[39m\u001b[39m#\u001b[39m\u001b[39m'\u001b[39m)\u001b[39m-\u001b[39m\u001b[39m1\u001b[39m]\n",
      "\u001b[1;31mValueError\u001b[0m: not enough values to unpack (expected 2, got 1)"
     ]
    }
   ],
   "source": [
    "text = clipboard.paste()\n",
    "\n",
    "# 제목, 타이틀, 해시태그 지정\n",
    "try:\n",
    "    title = re.search(r'제목: \"(.*)\"', text).group(1)\n",
    "except:\n",
    "    title = re.search(r'제목: (.*)', text).group(1)\n",
    "match = re.search(r'본문:(.*)', text, re.DOTALL)\n",
    "\n",
    "if match:\n",
    "    content, hashtag = match.group(1).split('#', 1)\n",
    "    hashtag = '#'+hashtag\n",
    "    hashtag = hashtag[:hashtag.rfind('#')-1]\n",
    "    content = content[:content.rfind('.')+1]"
   ]
  },
  {
   "cell_type": "code",
   "execution_count": null,
   "metadata": {},
   "outputs": [
    {
     "data": {
      "text/plain": [
       "'#다사모농장 #제주 #저농약 #감귤 #로얄과 #프리미엄 #영양가 #피부건강 #소화시스템 #항산화 #환경보호 #제주특산물'"
      ]
     },
     "execution_count": 391,
     "metadata": {},
     "output_type": "execute_result"
    }
   ],
   "source": [
    "hashtag[:hashtag.rfind('#')-1]"
   ]
  },
  {
   "cell_type": "code",
   "execution_count": null,
   "metadata": {},
   "outputs": [],
   "source": [
    "time.sleep(3)\n",
    "\n",
    "# t story url\n",
    "clipboard.copy('https://jamis.tistory.com/manage/newpost/?type=post&returnURL=%2Fmanage%2Fposts%2F')\n",
    "\n",
    "# 새 창 열기\n",
    "pg.click(pg.locateOnScreen('./images/new_tab.png', confidence=0.9))\n",
    "time.sleep(random.uniform(0.5,0.7))\n",
    "\n",
    "pg.hotkey('ctrl','v')\n",
    "\n",
    "time.sleep(random.uniform(0.3,0.7))\n",
    "\n",
    "pg.press('enter')\n",
    "\n",
    "time.sleep(random.uniform(0.8,1))\n",
    "\n",
    "\n",
    "# 작성 중이던 것이 있는가\n",
    "time.sleep(1)\n",
    "if pg.locateOnScreen('./images/cancle.png', confidence=0.9):\n",
    "    pg.click(pg.locateOnScreen('./images/cancle.png', confidence=0.9))\n",
    "\n",
    "time.sleep(random.uniform(0.3,0.7))"
   ]
  },
  {
   "cell_type": "code",
   "execution_count": null,
   "metadata": {},
   "outputs": [],
   "source": [
    "pg.press('tab')\n",
    "\n",
    "# 새 창 열기\n",
    "pg.click(pg.locateOnScreen('./images/new_tab.png', confidence=0.9))\n",
    "time.sleep(random.uniform(0.5,0.7))\n",
    "\n",
    "clipboard.copy(img)\n",
    "pg.hotkey('ctrl', 'v')\n",
    "pg.press('enter')\n",
    "\n",
    "time.sleep(random.uniform(0.5,0.7))\n",
    "\n",
    "pg.click(x=989, y=601)\n",
    "time.sleep(0.1)\n",
    "\n",
    "pg.hotkey('ctrl', 'c')\n",
    "time.sleep(0.1)\n",
    "\n",
    "pg.hotkey('ctrl', 'w')\n",
    "time.sleep(0.1)\n",
    "\n",
    "pg.hotkey('ctrl', 'v')\n",
    "time.sleep(2)\n",
    "\n",
    "pg.click(pg.locateOnScreen('./images/explain.png', confidence=0.9))\n",
    "clipboard.copy(keyword)\n",
    "pg.hotkey('ctrl', 'v')\n",
    "pg.press('enter')\n",
    "\n",
    "time.sleep(random.uniform(0.5,0.7))\n",
    "\n",
    "\n",
    "pg.press('tab')\n",
    "\n",
    "# 해시태그 작성\n",
    "clipboard.copy(hashtag)\n",
    "pg.hotkey('ctrl', 'v')\n",
    "\n",
    "# 카테고리 설정\n",
    "pg.click(pg.locateOnScreen('./images/category.png', confidence=0.9))\n",
    "time.sleep(random.uniform(0.5,0.7))\n",
    "\n",
    "pg.click(pg.locateOnScreen('./images/food.png', confidence=0.9))\n",
    "time.sleep(random.uniform(0.5,0.7))\n",
    "\n",
    "\n",
    "# 마크다운 설정\n",
    "pg.click(pg.locateOnScreen('./images/select_mode.png', confidence=0.9))\n",
    "time.sleep(random.uniform(0.5,0.7))\n",
    "pg.click(pg.locateOnScreen('./images/select_markdown.png', confidence=0.9))\n",
    "time.sleep(random.uniform(0.5,0.7))\n",
    "pg.click(pg.locateOnScreen('./images/ok.png', confidence=0.9))\n",
    "time.sleep(random.uniform(0.5,0.7))\n",
    "\n",
    "# 작성 탭으로 이동\n",
    "for _ in range(4):\n",
    "    pg.press('tab')\n",
    "    time.sleep(0.2)\n",
    "\n",
    "# 타이틀 작성\n",
    "clipboard.copy(title)\n",
    "pg.hotkey('ctrl', 'v')\n",
    "\n",
    "for _ in range(2):\n",
    "    pg.press('tab')\n",
    "    time.sleep(0.4)\n",
    "\n",
    "\n",
    "# 컨텐츠 작성\n",
    "clipboard.copy(content)\n",
    "pg.hotkey('ctrl', 'v')\n",
    "pg.press('tab')\n",
    "\n",
    "time.sleep(random.uniform(0.3,0.7))\n",
    "\n",
    "# 작성 완료 버튼\n",
    "pg.click(pg.locateOnScreen('./images/complete.png', confidence=0.9))\n",
    "time.sleep(random.uniform(0.3,0.7))\n",
    "\n",
    "# 태그 설정\n",
    "pg.click(pg.locateOnScreen('./images/no_select.png', confidence=0.9))\n",
    "time.sleep(random.uniform(0.3,0.7))\n",
    "pg.click(pg.locateOnScreen('./images/lifeinfo.png', confidence=0.9))\n",
    "time.sleep(random.uniform(0.3,0.7))\n",
    "\n",
    "# 발행 완료\n",
    "pg.click(pg.locateOnScreen('./images/final.png', confidence=0.9))\n",
    "time.sleep(random.uniform(0.3,0.7))\n",
    "\n",
    "\n",
    "# # 비쥬얼 스튜디오로 돌아오기\n",
    "# pg.click(pg.locateOnScreen('./images/vs.png',confidence = 0.8))\n",
    "# time.sleep(random.uniform(0.3,0.7))\n",
    "\n",
    "# pg.click(pg.locateOnScreen('./images/gui.png',confidence = 0.8))\n",
    "# time.sleep(random.uniform(0.3,0.7))"
   ]
  },
  {
   "cell_type": "code",
   "execution_count": null,
   "metadata": {},
   "outputs": [],
   "source": [
    "time.sleep(1)\n",
    "pg.typewrite(keyword)"
   ]
  },
  {
   "cell_type": "code",
   "execution_count": null,
   "metadata": {},
   "outputs": [
    {
     "data": {
      "text/plain": [
       "'감귤'"
      ]
     },
     "execution_count": 395,
     "metadata": {},
     "output_type": "execute_result"
    }
   ],
   "source": [
    "keyword"
   ]
  }
 ],
 "metadata": {
  "kernelspec": {
   "display_name": "Python 3",
   "language": "python",
   "name": "python3"
  },
  "language_info": {
   "codemirror_mode": {
    "name": "ipython",
    "version": 3
   },
   "file_extension": ".py",
   "mimetype": "text/x-python",
   "name": "python",
   "nbconvert_exporter": "python",
   "pygments_lexer": "ipython3",
   "version": "3.11.1"
  },
  "orig_nbformat": 4
 },
 "nbformat": 4,
 "nbformat_minor": 2
}
