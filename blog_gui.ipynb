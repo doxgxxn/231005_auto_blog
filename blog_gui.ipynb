{
 "cells": [
  {
   "cell_type": "code",
   "execution_count": 2,
   "metadata": {},
   "outputs": [],
   "source": [
    "import requests\n",
    "from bs4 import BeautifulSoup\n",
    "from selenium import webdriver\n",
    "from selenium.webdriver.common.by import By\n",
    "\n",
    "from selenium.webdriver.chrome.options import Options\n",
    "import time\n",
    "import re\n",
    "import pandas as pd\n",
    "import matplotlib.pyplot as plt\n",
    "\n",
    "plt.rcParams['font.family'] = 'Malgun Gothic'\n",
    "plt.rcParams['axes.unicode_minus'] = False\n",
    "plt.rcParams['figure.figsize'] = (6, 3)\n",
    "plt.rcParams['font.size'] = 12"
   ]
  },
  {
   "cell_type": "code",
   "execution_count": 3,
   "metadata": {},
   "outputs": [
    {
     "data": {
      "text/plain": [
       "'https://www.11st.co.kr/products/5271468218?inpu=&trTypeCd=22&trCtgrNo=895019'"
      ]
     },
     "execution_count": 3,
     "metadata": {},
     "output_type": "execute_result"
    }
   ],
   "source": [
    "url = \"https://www.11st.co.kr/browsing/BestSeller.tmall?method=getBestSellerMain&cornerNo=1\"\n",
    "res = requests.get(url)\n",
    "soup = BeautifulSoup(res.text, 'lxml')\n",
    "food_list = soup.find('div', class_=\"best_prd_box\").find_all('li')\n",
    "food_list[0].a['href']"
   ]
  },
  {
   "cell_type": "code",
   "execution_count": 4,
   "metadata": {},
   "outputs": [
    {
     "data": {
      "text/plain": [
       "'23년산 햅쌀 전라북도쌀, 상등급, 20kg'"
      ]
     },
     "execution_count": 4,
     "metadata": {},
     "output_type": "execute_result"
    }
   ],
   "source": [
    "food_list[0].p.text.strip()"
   ]
  },
  {
   "cell_type": "code",
   "execution_count": 5,
   "metadata": {},
   "outputs": [
    {
     "name": "stdout",
     "output_type": "stream",
     "text": [
      "['https://www.11st.co.kr/products/5531419872?inpu=&trTypeCd=22&trCtgrNo=895019', 'https://www.11st.co.kr/products/2642183905?inpu=&trTypeCd=22&trCtgrNo=895019', 'https://www.11st.co.kr/products/5680736334?inpu=&trTypeCd=22&trCtgrNo=895019', 'https://www.11st.co.kr/products/1602148744?inpu=&trTypeCd=22&trCtgrNo=895019', 'https://www.11st.co.kr/products/2984815679?inpu=&trTypeCd=22&trCtgrNo=895019']\n",
      "['23년산 햅쌀 전라남도 새청무쌀 상등급, 20kg', '[농협카드15%] 제주농협 귤로장생 햇 노지감귤 4.5kg 9kg 당도선별', '고메 소바바치킨 소이허니 순살, 375g, 3개', '2023년 수확!! 햇 대봉감 3~10kg', '유나네농장 제주 햇 노지 감귤 10kg 불만족시 무료반품']\n"
     ]
    },
    {
     "data": {
      "text/plain": [
       "(None, None)"
      ]
     },
     "execution_count": 5,
     "metadata": {},
     "output_type": "execute_result"
    }
   ],
   "source": [
    "urls =[]\n",
    "names = []\n",
    "for food in food_list[5:10]:\n",
    "    urls.append(food.a['href'])\n",
    "    names.append(food.p.text.strip())\n",
    "\n",
    "print(urls), print(names)"
   ]
  },
  {
   "cell_type": "code",
   "execution_count": 6,
   "metadata": {},
   "outputs": [
    {
     "data": {
      "text/plain": [
       "'23년산 햅쌀 전라남도 새청무쌀 상등급, 20kg'"
      ]
     },
     "execution_count": 6,
     "metadata": {},
     "output_type": "execute_result"
    }
   ],
   "source": [
    "names[0]"
   ]
  },
  {
   "cell_type": "code",
   "execution_count": 7,
   "metadata": {},
   "outputs": [],
   "source": [
    "refined_name = []\n",
    "for i in names:\n",
    "    bucket =[]\n",
    "    for j in i.split():\n",
    "        if j[0].isalpha() and len(j) > 1:\n",
    "            bucket.append(j)\n",
    "    refined_name.append(' '.join(bucket))\n",
    "\n"
   ]
  },
  {
   "cell_type": "code",
   "execution_count": 8,
   "metadata": {},
   "outputs": [
    {
     "data": {
      "text/plain": [
       "['햅쌀 전라남도 새청무쌀 상등급,',\n",
       " '제주농협 귤로장생 노지감귤 당도선별',\n",
       " '고메 소바바치킨 소이허니 순살,',\n",
       " '수확!! 대봉감',\n",
       " '유나네농장 제주 노지 감귤 불만족시 무료반품']"
      ]
     },
     "execution_count": 8,
     "metadata": {},
     "output_type": "execute_result"
    }
   ],
   "source": [
    "refined_name"
   ]
  },
  {
   "cell_type": "code",
   "execution_count": 42,
   "metadata": {},
   "outputs": [],
   "source": [
    "import pyautogui as pg\n",
    "import keyboard\n",
    "import clipboard\n",
    "import time\n",
    "import random"
   ]
  },
  {
   "cell_type": "code",
   "execution_count": 10,
   "metadata": {},
   "outputs": [],
   "source": [
    "# position capture\n",
    "def position():\n",
    "    while True:\n",
    "        if keyboard.is_pressed('c'):\n",
    "            print(pg.position())\n",
    "            time.sleep(0.7)\n",
    "            \n",
    "        if keyboard.is_pressed('q'):\n",
    "            break\n"
   ]
  },
  {
   "cell_type": "code",
   "execution_count": 30,
   "metadata": {},
   "outputs": [
    {
     "name": "stdout",
     "output_type": "stream",
     "text": [
      "Point(x=0, y=1095)\n",
      "Point(x=1915, y=1105)\n"
     ]
    }
   ],
   "source": [
    "position()"
   ]
  },
  {
   "cell_type": "code",
   "execution_count": 44,
   "metadata": {},
   "outputs": [],
   "source": [
    "# 크롬이미지 확인 및 선택\n",
    "chrome = pg.locateOnScreen('./images/chrome.png',confidence = 0.9)\n",
    "pg.moveTo(chrome)\n",
    "pg.click()\n",
    "\n",
    "time.sleep(random.uniform(0.2,0.4))\n",
    "\n",
    "# gpt이미지\n",
    "gpt = pg.locateOnScreen('./images/chatgpt.png',confidence = 0.9)\n",
    "pg.moveTo(gpt)\n",
    "pg.click()"
   ]
  },
  {
   "cell_type": "code",
   "execution_count": 46,
   "metadata": {},
   "outputs": [
    {
     "name": "stdout",
     "output_type": "stream",
     "text": [
      "Box(left=253, top=3, width=97, height=27)\n",
      "<class 'pyscreeze.Box'>\n"
     ]
    },
    {
     "data": {
      "text/plain": [
       "(None, None)"
      ]
     },
     "execution_count": 46,
     "metadata": {},
     "output_type": "execute_result"
    }
   ],
   "source": [
    "print(gpt), print(type(gpt))"
   ]
  },
  {
   "cell_type": "code",
   "execution_count": null,
   "metadata": {},
   "outputs": [],
   "source": [
    "gpt = pg.locateOnScreen('./images/chatgpt.png',confidence = 0.9)\n",
    "pg.moveTo(gpt)\n",
    "pg.click()"
   ]
  }
 ],
 "metadata": {
  "kernelspec": {
   "display_name": "Python 3",
   "language": "python",
   "name": "python3"
  },
  "language_info": {
   "codemirror_mode": {
    "name": "ipython",
    "version": 3
   },
   "file_extension": ".py",
   "mimetype": "text/x-python",
   "name": "python",
   "nbconvert_exporter": "python",
   "pygments_lexer": "ipython3",
   "version": "3.11.1"
  },
  "orig_nbformat": 4
 },
 "nbformat": 4,
 "nbformat_minor": 2
}
