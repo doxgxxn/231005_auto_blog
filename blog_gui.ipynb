{
 "cells": [
  {
   "cell_type": "code",
   "execution_count": 1,
   "metadata": {},
   "outputs": [],
   "source": [
    "import requests\n",
    "from bs4 import BeautifulSoup\n",
    "from selenium import webdriver\n",
    "from selenium.webdriver.common.by import By\n",
    "\n",
    "from selenium.webdriver.chrome.options import Options\n",
    "import time\n",
    "import re\n",
    "import pandas as pd\n",
    "import matplotlib.pyplot as plt\n",
    "\n",
    "plt.rcParams['font.family'] = 'Malgun Gothic'\n",
    "plt.rcParams['axes.unicode_minus'] = False\n",
    "plt.rcParams['figure.figsize'] = (6, 3)\n",
    "plt.rcParams['font.size'] = 12"
   ]
  },
  {
   "cell_type": "code",
   "execution_count": 2,
   "metadata": {},
   "outputs": [],
   "source": [
    "# position capture\n",
    "def position():\n",
    "    while True:\n",
    "        if keyboard.is_pressed('c'):\n",
    "            print(pg.position())\n",
    "            time.sleep(0.7)\n",
    "            \n",
    "        if keyboard.is_pressed('q'):\n",
    "            break\n"
   ]
  },
  {
   "cell_type": "code",
   "execution_count": 3,
   "metadata": {},
   "outputs": [
    {
     "data": {
      "text/plain": [
       "'https://www.11st.co.kr/products/5271468218?inpu=&trTypeCd=22&trCtgrNo=895019'"
      ]
     },
     "execution_count": 3,
     "metadata": {},
     "output_type": "execute_result"
    }
   ],
   "source": [
    "url = \"https://www.11st.co.kr/browsing/BestSeller.tmall?method=getBestSellerMain&cornerNo=1\"\n",
    "res = requests.get(url)\n",
    "soup = BeautifulSoup(res.text, 'lxml')\n",
    "food_list = soup.find('div', class_=\"best_prd_box\").find_all('li')\n",
    "food_list[0].a['href']"
   ]
  },
  {
   "cell_type": "code",
   "execution_count": 4,
   "metadata": {},
   "outputs": [
    {
     "data": {
      "text/plain": [
       "'23년산 햅쌀 전라북도쌀, 상등급, 20kg'"
      ]
     },
     "execution_count": 4,
     "metadata": {},
     "output_type": "execute_result"
    }
   ],
   "source": [
    "food_list[0].p.text.strip()"
   ]
  },
  {
   "cell_type": "code",
   "execution_count": 5,
   "metadata": {},
   "outputs": [
    {
     "name": "stdout",
     "output_type": "stream",
     "text": [
      "['https://www.11st.co.kr/products/4943484097?inpu=&trTypeCd=22&trCtgrNo=895019', 'https://www.11st.co.kr/products/4440244246?inpu=&trTypeCd=22&trCtgrNo=895019', 'https://www.11st.co.kr/products/2190613796?inpu=&trTypeCd=22&trCtgrNo=895019', 'https://www.11st.co.kr/products/3849671668?inpu=&trTypeCd=22&trCtgrNo=895019', 'https://www.11st.co.kr/products/3871801519?inpu=&trTypeCd=22&trCtgrNo=895019']\n",
      "['23년산 햅쌀 전라북도 신동진쌀 상등급, 20kg', '[우체국쇼핑] 홍영의 붉은대게 어간장, 백간장, 버섯맛간장 #만능소스#깊고진한향', '[깨비농원] 새콤달콤 노지 감귤 4.5kg 9kg 외 당도선별 감귤', '[우체국쇼핑×어글리러블리]못난이 노지감귤 9kg 대용량/못난이 황금향 4.5kg', '씨없는 청도 고당도 반시  5kg 50과내외 부드러운 홍시']\n"
     ]
    },
    {
     "data": {
      "text/plain": [
       "(None, None)"
      ]
     },
     "execution_count": 5,
     "metadata": {},
     "output_type": "execute_result"
    }
   ],
   "source": [
    "urls =[]\n",
    "names = []\n",
    "for food in food_list[5:10]:\n",
    "    urls.append(food.a['href'])\n",
    "    names.append(food.p.text.strip())\n",
    "\n",
    "print(urls), print(names)"
   ]
  },
  {
   "cell_type": "code",
   "execution_count": 6,
   "metadata": {},
   "outputs": [
    {
     "data": {
      "text/plain": [
       "'23년산 햅쌀 전라북도 신동진쌀 상등급, 20kg'"
      ]
     },
     "execution_count": 6,
     "metadata": {},
     "output_type": "execute_result"
    }
   ],
   "source": [
    "names[0]"
   ]
  },
  {
   "cell_type": "code",
   "execution_count": 7,
   "metadata": {},
   "outputs": [],
   "source": [
    "refined_name = []\n",
    "for i in names:\n",
    "    bucket =[]\n",
    "    for j in i.split():\n",
    "        if j[0].isalpha() and len(j) > 1:\n",
    "            bucket.append(j)\n",
    "    refined_name.append(' '.join(bucket))\n",
    "\n"
   ]
  },
  {
   "cell_type": "code",
   "execution_count": 8,
   "metadata": {},
   "outputs": [
    {
     "data": {
      "text/plain": [
       "['햅쌀 전라북도 신동진쌀 상등급,',\n",
       " '홍영의 붉은대게 어간장, 백간장, 버섯맛간장',\n",
       " '새콤달콤 노지 감귤 당도선별 감귤',\n",
       " '노지감귤 대용량/못난이 황금향',\n",
       " '씨없는 청도 고당도 반시 부드러운 홍시']"
      ]
     },
     "execution_count": 8,
     "metadata": {},
     "output_type": "execute_result"
    }
   ],
   "source": [
    "refined_name"
   ]
  },
  {
   "cell_type": "code",
   "execution_count": 9,
   "metadata": {},
   "outputs": [],
   "source": [
    "import pyautogui as pg\n",
    "import keyboard\n",
    "import clipboard\n",
    "import time\n",
    "import random"
   ]
  },
  {
   "cell_type": "code",
   "execution_count": 38,
   "metadata": {},
   "outputs": [],
   "source": [
    "# 크롬이미지 확인 및 선택\n",
    "chrome = pg.locateOnScreen('./images/chrome.png',confidence = 0.9)\n",
    "pg.moveTo(chrome)\n",
    "pg.click()\n",
    "\n",
    "time.sleep(random.uniform(6,7))\n",
    "\n",
    "# gpt이미지\n",
    "gpt = pg.locateOnScreen('./images/chatgpt.png',confidence = 0.7)\n",
    "pg.moveTo(gpt)\n",
    "pg.click()\n",
    "\n",
    "time.sleep(random.uniform(2,3))\n",
    "\n",
    "# new chat\n",
    "start = pg.locateOnScreen('./images/start.png',confidence = 0.8)\n",
    "pg.moveTo(start)\n",
    "pg.click()\n",
    "\n",
    "time.sleep(random.uniform(1,2))"
   ]
  },
  {
   "cell_type": "code",
   "execution_count": 36,
   "metadata": {},
   "outputs": [],
   "source": [
    "start"
   ]
  },
  {
   "cell_type": "code",
   "execution_count": 34,
   "metadata": {},
   "outputs": [],
   "source": [
    "# 크롬이미지 확인 및 선택\n",
    "chrome = pg.locateOnScreen('./images/chrome.png',confidence = 0.9)\n",
    "pg.moveTo(chrome)\n",
    "pg.click()\n",
    "\n",
    "time.sleep(random.uniform(6,7))\n",
    "\n",
    "# gpt이미지\n",
    "gpt = pg.locateOnScreen('./images/chatgpt.png',confidence = 0.7)\n",
    "pg.moveTo(gpt)\n",
    "pg.click()\n",
    "\n",
    "time.sleep(random.uniform(1,1.2))\n",
    "\n",
    "# new chat\n",
    "start = pg.locateOnScreen('./images/start.png',confidence = 0.5)\n",
    "pg.moveTo(start)\n",
    "pg.click()\n",
    "\n",
    "time.sleep(random.uniform(1,2))\n",
    "\n",
    "# 질문\n",
    "text = f'({refined_name[0]})이 것의 메인 재료로 블로그 글을 작성해줘 효능과 부작용 기타 지식 등을 사람이 쓴 것처럼 나열해줘 제목과 본문으로 구분하고 마지막에 핵심 키워드를 해시태그로 만들어줘'\n",
    "clipboard.copy(text)\n",
    "pg.hotkey('ctrl','v')\n",
    "pg.keyDown('enter')\n",
    "pg.keyUp('enter')\n",
    "\n",
    "# 대답이 나올 때까지 대기\n",
    "where = None\n",
    "while not where:\n",
    "    where = pg.locateOnScreen('./images/done.png')\n",
    "    time.sleep(0.5)\n",
    "\n",
    "time.sleep(random.uniform(0.5,0.7))\n",
    "# url 복사\n",
    "pg.hotkey('alt','d')\n",
    "time.sleep(random.uniform(0.5,0.7))\n",
    "pg.hotkey('ctrl','c')"
   ]
  },
  {
   "cell_type": "code",
   "execution_count": 32,
   "metadata": {},
   "outputs": [
    {
     "name": "stdout",
     "output_type": "stream",
     "text": [
      "None\n"
     ]
    }
   ],
   "source": [
    "print(start)"
   ]
  },
  {
   "cell_type": "code",
   "execution_count": 11,
   "metadata": {},
   "outputs": [],
   "source": [
    "vs = pg.locateOnScreen('./images/vs.png',confidence = 0.8)\n",
    "pg.moveTo(vs)\n",
    "pg.click()\n",
    "\n",
    "time.sleep(random.uniform(0.3,0.5))\n",
    "\n",
    "pp = pg.locateOnScreen('./images/preprocessing.png',confidence = 0.8)\n",
    "pg.moveTo(pp)\n",
    "pg.click()\n",
    "\n",
    "time.sleep(random.uniform(0.3,0.5))\n",
    "\n",
    "run = pg.locateOnScreen('./images/run.png',confidence = 0.8)\n",
    "pg.moveTo(run)\n",
    "pg.click()"
   ]
  }
 ],
 "metadata": {
  "kernelspec": {
   "display_name": "Python 3",
   "language": "python",
   "name": "python3"
  },
  "language_info": {
   "codemirror_mode": {
    "name": "ipython",
    "version": 3
   },
   "file_extension": ".py",
   "mimetype": "text/x-python",
   "name": "python",
   "nbconvert_exporter": "python",
   "pygments_lexer": "ipython3",
   "version": "3.11.1"
  },
  "orig_nbformat": 4
 },
 "nbformat": 4,
 "nbformat_minor": 2
}
