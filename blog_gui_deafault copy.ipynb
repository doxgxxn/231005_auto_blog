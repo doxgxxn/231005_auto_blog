{
 "cells": [
  {
   "cell_type": "code",
   "execution_count": 91,
   "metadata": {},
   "outputs": [],
   "source": [
    "import requests\n",
    "from bs4 import BeautifulSoup\n",
    "from selenium import webdriver\n",
    "from selenium.webdriver.common.by import By\n",
    "\n",
    "from selenium.webdriver.chrome.options import Options\n",
    "import time\n",
    "import re\n",
    "import pandas as pd\n",
    "import matplotlib.pyplot as plt\n",
    "\n",
    "plt.rcParams['font.family'] = 'Malgun Gothic'\n",
    "plt.rcParams['axes.unicode_minus'] = False\n",
    "plt.rcParams['figure.figsize'] = (6, 3)\n",
    "plt.rcParams['font.size'] = 12"
   ]
  },
  {
   "cell_type": "code",
   "execution_count": 92,
   "metadata": {},
   "outputs": [],
   "source": [
    "# # position capture\n",
    "# def position():\n",
    "#     while True:\n",
    "#         if keyboard.is_pressed('c'):\n",
    "#             print(pg.position())\n",
    "#             time.sleep(0.7)\n",
    "            \n",
    "#         if keyboard.is_pressed('q'):\n",
    "#             break\n"
   ]
  },
  {
   "cell_type": "code",
   "execution_count": 93,
   "metadata": {},
   "outputs": [
    {
     "data": {
      "text/plain": [
       "'https://www.11st.co.kr/products/1290794455?inpu=&trTypeCd=22&trCtgrNo=895019'"
      ]
     },
     "execution_count": 93,
     "metadata": {},
     "output_type": "execute_result"
    }
   ],
   "source": [
    "url = \"https://www.11st.co.kr/browsing/BestSeller.tmall?method=getBestSellerMain&cornerNo=1\"\n",
    "res = requests.get(url)\n",
    "soup = BeautifulSoup(res.text, 'lxml')\n",
    "food_list = soup.find('div', class_=\"best_prd_box\").find_all('li')\n",
    "food_list[0].a['href']"
   ]
  },
  {
   "cell_type": "code",
   "execution_count": 94,
   "metadata": {},
   "outputs": [
    {
     "data": {
      "text/plain": [
       "'후기증명! 해남 베니하루카 숙성 꿀고구마 5kg (중) 13,680'"
      ]
     },
     "execution_count": 94,
     "metadata": {},
     "output_type": "execute_result"
    }
   ],
   "source": [
    "food_list[0].p.text.strip()"
   ]
  },
  {
   "cell_type": "code",
   "execution_count": 95,
   "metadata": {},
   "outputs": [
    {
     "name": "stdout",
     "output_type": "stream",
     "text": [
      "['https://www.11st.co.kr/products/3849671668?inpu=&trTypeCd=22&trCtgrNo=895019', 'https://www.11st.co.kr/products/2190688497?inpu=&trTypeCd=22&trCtgrNo=895019', 'https://www.11st.co.kr/products/3760394124?inpu=&trTypeCd=22&trCtgrNo=895019', 'https://www.11st.co.kr/products/2190613796?inpu=&trTypeCd=22&trCtgrNo=895019', 'https://www.11st.co.kr/products/1809724408?inpu=&trTypeCd=22&trCtgrNo=895019']\n",
      "['[우체국쇼핑×어글리러블리]못난이 노지감귤 9kg 대용량/못난이 황금향 4.5kg', '다사모농장 제주 저농약 감귤 귤 10KG 소과 중과 로얄과 프리미엄', '호정가 왕찹쌀약과 (2개 묶음, 총1.08kg) / 전통한과 과자', '[깨비농원] 새콤달콤 노지 감귤 4.5kg 9kg 외 당도선별 감귤', '밥도둑 무말랭이1kg+깻잎무침1kg 외 반찬 밑반찬 젓갈']\n"
     ]
    },
    {
     "data": {
      "text/plain": [
       "(None, None)"
      ]
     },
     "execution_count": 95,
     "metadata": {},
     "output_type": "execute_result"
    }
   ],
   "source": [
    "urls =[]\n",
    "names = []\n",
    "for food in food_list[:10]:\n",
    "    urls.append(food.a['href'])\n",
    "    names.append(food.p.text.strip())\n",
    "\n",
    "print(urls), print(names)"
   ]
  },
  {
   "cell_type": "code",
   "execution_count": 96,
   "metadata": {},
   "outputs": [
    {
     "data": {
      "text/plain": [
       "'[우체국쇼핑×어글리러블리]못난이 노지감귤 9kg 대용량/못난이 황금향 4.5kg'"
      ]
     },
     "execution_count": 96,
     "metadata": {},
     "output_type": "execute_result"
    }
   ],
   "source": [
    "names[0]"
   ]
  },
  {
   "cell_type": "code",
   "execution_count": 97,
   "metadata": {},
   "outputs": [],
   "source": [
    "refined_name = []\n",
    "for i in names:\n",
    "    bucket =[]\n",
    "    for j in i.split():\n",
    "        if j[0].isalpha() and len(j) > 1:\n",
    "            bucket.append(j)\n",
    "    refined_name.append(' '.join(bucket))\n",
    "\n"
   ]
  },
  {
   "cell_type": "code",
   "execution_count": 98,
   "metadata": {},
   "outputs": [
    {
     "data": {
      "text/plain": [
       "['노지감귤 대용량/못난이 황금향',\n",
       " '다사모농장 제주 저농약 감귤 소과 중과 로얄과 프리미엄',\n",
       " '호정가 왕찹쌀약과 묶음, 총1.08kg) 전통한과 과자',\n",
       " '새콤달콤 노지 감귤 당도선별 감귤',\n",
       " '밥도둑 무말랭이1kg+깻잎무침1kg 반찬 밑반찬 젓갈']"
      ]
     },
     "execution_count": 98,
     "metadata": {},
     "output_type": "execute_result"
    }
   ],
   "source": [
    "refined_name"
   ]
  },
  {
   "cell_type": "code",
   "execution_count": 99,
   "metadata": {},
   "outputs": [],
   "source": [
    "import pyautogui as pg\n",
    "import keyboard\n",
    "import clipboard\n",
    "import time\n",
    "import random"
   ]
  },
  {
   "cell_type": "code",
   "execution_count": 100,
   "metadata": {},
   "outputs": [
    {
     "data": {
      "text/plain": [
       "Box(left=5, top=116, width=380, height=76)"
      ]
     },
     "execution_count": 100,
     "metadata": {},
     "output_type": "execute_result"
    }
   ],
   "source": [
    "start"
   ]
  },
  {
   "cell_type": "code",
   "execution_count": 101,
   "metadata": {},
   "outputs": [],
   "source": [
    "# 크롬이미지 확인 및 선택\n",
    "chrome = pg.locateOnScreen('./images/chrome.png',confidence = 0.9)\n",
    "pg.click(chrome)\n",
    "\n",
    "loading = None\n",
    "while not loading:\n",
    "    loading = pg.locateOnScreen('./images/loading.png',confidence = 0.7)\n",
    "    time.sleep(0.3)\n",
    "\n",
    "# gpt이미지\n",
    "gpt = pg.locateOnScreen('./images/chatgpt.png',confidence = 0.7)\n",
    "pg.click(gpt)\n",
    "\n",
    "start = None\n",
    "while not start:\n",
    "    start = pg.locateOnScreen('./images/start.png',confidence = 0.7)\n",
    "    time.sleep(0.3)\n",
    "\n",
    "pg.moveTo(start)\n",
    "\n",
    "\n"
   ]
  },
  {
   "cell_type": "code",
   "execution_count": 102,
   "metadata": {},
   "outputs": [],
   "source": [
    "time.sleep(3)\n",
    "pg.press('home')"
   ]
  },
  {
   "cell_type": "code",
   "execution_count": 107,
   "metadata": {},
   "outputs": [],
   "source": [
    "# 크롬이미지 확인 및 선택\n",
    "chrome = pg.locateOnScreen('./images/chrome.png',confidence = 0.9)\n",
    "pg.click(chrome)\n",
    "\n",
    "loading = None\n",
    "while not loading:\n",
    "    loading = pg.locateOnScreen('./images/loading.png',confidence = 0.7)\n",
    "    time.sleep(0.3)\n",
    "\n",
    "# gpt이미지\n",
    "gpt = pg.locateOnScreen('./images/chatgpt.png',confidence = 0.7)\n",
    "pg.click(gpt)\n",
    "\n",
    "\n",
    "# 화면 크기 150%\n",
    "start = None\n",
    "while not start:\n",
    "    start = pg.locateOnScreen('./images/start.png',confidence = 0.6)\n",
    "    time.sleep(0.3)\n",
    "\n",
    "time.sleep(random.uniform(0.5,0.8))\n",
    "\n",
    "pg.click(start)\n",
    "\n",
    "time.sleep(random.uniform(1,2))\n",
    "\n",
    "# 질문\n",
    "text = f'({refined_name[0]})이 것의 메인 재료로 블로그 글을 작성해줘 제목과 본문으로 나누고 효능과 부작용 기타 지식 해시태그를 한페이지 정도 사람이 쓴 것처럼 적어줘'\n",
    "clipboard.copy(text)\n",
    "pg.hotkey('ctrl','v')\n",
    "pg.press('enter')\n",
    "\n",
    "# 대답이 나올 때까지 대기\n",
    "where = None\n",
    "while not where:\n",
    "    where = pg.locateOnScreen('./images/done.png')\n",
    "    time.sleep(0.5)\n",
    "    \n",
    "pg.click(x=1058, y=339)\n",
    "time.sleep(0.3)\n",
    "pg.press('home')\n",
    "\n",
    "copy = None\n",
    "while not copy:\n",
    "    copy = pg.locateOnScreen('./images/copy.png')\n",
    "    time.sleep(0.3)\n",
    "\n",
    "pg.click(copy)"
   ]
  },
  {
   "cell_type": "code",
   "execution_count": 117,
   "metadata": {},
   "outputs": [],
   "source": [
    "# 대답이 나올 때까지 대기\n",
    "where = None\n",
    "while not where:\n",
    "    where = pg.locateOnScreen('./images/done.png')\n",
    "    time.sleep(0.5)\n",
    "    \n",
    "pg.click(x=1058, y=339)\n",
    "time.sleep(0.3)\n",
    "pg.press('home')\n",
    "\n",
    "copy = None\n",
    "while not copy:\n",
    "    copy = pg.locateOnScreen('./images/copy.png')\n",
    "    time.sleep(0.3)\n",
    "\n",
    "pg.click(copy)"
   ]
  },
  {
   "cell_type": "code",
   "execution_count": 118,
   "metadata": {},
   "outputs": [],
   "source": [
    "# vs = pg.locateOnScreen('./images/vs.png',confidence = 0.8)\n",
    "# pg.click(vs)\n",
    "\n",
    "# time.sleep(random.uniform(0.3,0.5))\n",
    "\n",
    "# pp = pg.locateOnScreen('./images/pp.png',confidence = 0.8)\n",
    "# pg.click(pp)\n",
    "\n",
    "# time.sleep(random.uniform(0.3,0.5))\n",
    "\n",
    "# run = pg.locateOnScreen('./images/run.png',confidence = 0.8)\n",
    "# pg.click(run)\n",
    "\n",
    "# # time.sleep(random.uniform(0.5,0.7))\n",
    "# # pg.press('enter')\n",
    "\n",
    "# time.sleep(random.uniform(2,2.5))\n",
    "\n",
    "\n",
    "# -----------------"
   ]
  },
  {
   "cell_type": "code",
   "execution_count": null,
   "metadata": {},
   "outputs": [],
   "source": [
    "# t story url\n",
    "clipboard.copy('https://jamis.tistory.com/manage/newpost/?type=post&returnURL=%2Fmanage%2Fposts%2F')\n",
    "\n",
    "# 새 창 열기\n",
    "pg.click(pg.locateOnScreen('./images/new_tab.png', confidence=0.9))\n",
    "time.sleep(random.uniform(0.5,0.7))\n",
    "\n",
    "pg.hotkey('ctrl','v')\n",
    "\n",
    "time.sleep(random.uniform(0.3,0.7))\n",
    "\n",
    "pg.press('enter')\n",
    "\n",
    "time.sleep(random.uniform(0.8,1))\n",
    "\n",
    "\n",
    "# 작성 중이던 것이 있는가\n",
    "time.sleep(1)\n",
    "if pg.locateOnScreen('./images/cancle.png', confidence=0.9):\n",
    "    pg.click(pg.locateOnScreen('./images/cancle.png', confidence=0.9))\n",
    "\n",
    "time.sleep(random.uniform(0.3,0.7))"
   ]
  }
 ],
 "metadata": {
  "kernelspec": {
   "display_name": "Python 3",
   "language": "python",
   "name": "python3"
  },
  "language_info": {
   "codemirror_mode": {
    "name": "ipython",
    "version": 3
   },
   "file_extension": ".py",
   "mimetype": "text/x-python",
   "name": "python",
   "nbconvert_exporter": "python",
   "pygments_lexer": "ipython3",
   "version": "3.11.1"
  },
  "orig_nbformat": 4
 },
 "nbformat": 4,
 "nbformat_minor": 2
}
