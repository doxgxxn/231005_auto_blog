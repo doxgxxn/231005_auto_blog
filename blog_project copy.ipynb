{
 "cells": [
  {
   "cell_type": "markdown",
   "metadata": {},
   "source": [
    "### 블로그 글 작성 주제 선정\n",
    "\n",
    "넷플릭스 : 넷플릭스는 영화의 평점과 후기를 앱에서 보여주지 않기 때문에 사람들이 직접 검색해서 후기를 찾아볼 것이다  \n",
    "netflix ranking site : \"https://flixpatrol.com/top10/netflix/south-korea/\"\n",
    "\n",
    "problem\n",
    "1. movie 명이 영어로 되있어서 한글로 번역해야하는데 단순 번역이 안맞음\n",
    "2. 같은 이름을 가진 영화들의 전처리 필요\n",
    "3. 사진을 같이 업로드해야함\n",
    "--- 영화 블로그는 정교한 분석을 필요로하고 같은 영화 이름을 처리하거나 사진을 찾는 것이 어려움\n",
    "\n",
    "음식 : 현재 사람들이 많이 주문하는 음식들의 효능 및 부작용을 작성하는 블로그글 , 추후 쿠팡 파트너스 연계로 수익화\n",
    "\n",
    "1. 식품 크롤링하여 선택\n",
    "\n",
    "        problem\n",
    "                1. 쿠팡 > 식품 >  과일 탭에서 쿠팡 추천 랭킹순 크롤링 url = \"https://www.coupang.com/np/categories/194282\" -> 쿠팡 웹페이지 런타임 오류 \n",
    "                2. 쿠팡 웹페이지 런타임 오류 -> 마켓컬리로 변경 url = \"https://www.kurly.com/collections/market-best\"\n",
    "                3. 마켓컬리도 크롤링은 막아놓은 듯 함.. 재접속이나 페이지 이동시 런타임 오류 현상 발생\n",
    "                4. 네이버 쇼핑 -> 품목의 이름이 너무 복잡함 ex) 40년 단감 태추단감 감 부유 고당도 대봉 홍시 진영단감 선물세트..\n",
    "\n",
    "2. 이름, 이미지 크롤링\n",
    "3. 이름 -> chatgpt로 script 생성\n",
    "4. 블로그에 script, 이미지 적용\n",
    "5. script내에서 tag 추출, tag 적용\n",
    "6. 업로드\n",
    "\n",
    "\n",
    "\n",
    "### 블로그 글 chatgpt openai로 생성\n",
    "\n",
    "### 생성된 글을 네이버 블로그에 작성\n",
    "\n",
    "### 추후 블로그 성장률에 따른 글 작성 방법 수정\n",
    "\n",
    "general problem \n",
    "1. chatgpt의 openai의 토큰이 쉽게 넘어가 유료 플랜을 사용해야함 -> gui로 직접 사용"
   ]
  },
  {
   "cell_type": "code",
   "execution_count": 2,
   "metadata": {},
   "outputs": [],
   "source": [
    "import requests\n",
    "from bs4 import BeautifulSoup\n",
    "from selenium import webdriver\n",
    "from selenium.webdriver.common.by import By\n",
    "\n",
    "from selenium.webdriver.chrome.options import Options\n",
    "import subprocess\n",
    "import shutil\n"
   ]
  },
  {
   "cell_type": "code",
   "execution_count": 7,
   "metadata": {},
   "outputs": [],
   "source": [
    "from konlpy.tag import Okt"
   ]
  },
  {
   "cell_type": "code",
   "execution_count": 12,
   "metadata": {},
   "outputs": [],
   "source": [
    "import os\n",
    "os.environ['JAVA_HOME'] = \"C:\\Program Files\\Java\""
   ]
  },
  {
   "cell_type": "code",
   "execution_count": 15,
   "metadata": {},
   "outputs": [
    {
     "data": {
      "text/plain": [
       "['품질', '보장', '경북', '영천', '샤인', '머스켓']"
      ]
     },
     "execution_count": 15,
     "metadata": {},
     "output_type": "execute_result"
    }
   ],
   "source": [
    "okt = Okt()\n",
    "text = \"품질보장! 경북 영천 샤인머스켓 1kg\"\n",
    "okt.pos(text)\n",
    "okt.nouns(text)"
   ]
  },
  {
   "cell_type": "code",
   "execution_count": null,
   "metadata": {},
   "outputs": [],
   "source": [
    "import subprocess\n",
    "from selenium import webdriver\n",
    "\n",
    "# Chrome 브라우저를 실행하여 디버깅 포트를 열고 사용자 데이터 디렉터리를 설정합니다.\n",
    "subprocess.Popen(r'C:\\Program Files (x86)\\Google\\Chrome\\Application\\chrome.exe --remote-debugging-port=9222 --user-data-dir=\"C:\\chrometemp\"')\n",
    "\n",
    "# ChromeOptions 객체를 만들고 \"debuggerAddress\"를 설정합니다.\n",
    "options = webdriver.ChromeOptions()\n",
    "options.add_experimental_option(\"debuggerAddress\", \"127.0.0.1:9222\")\n",
    "\n",
    "# Chrome 드라이버를 초기화합니다.\n",
    "driver = webdriver.Chrome(options=options)  # ChromeOptions를 사용하도록 변경\n",
    "\n",
    "# 페이지가 로드될 때까지 최대 3초 대기합니다.\n",
    "driver.implicitly_wait(3)\n",
    "\n",
    "# 원하는 웹 페이지로 이동합니다.\n",
    "url = 'https://finance.naver.com/sise/'\n",
    "driver.get(url)"
   ]
  },
  {
   "cell_type": "code",
   "execution_count": 30,
   "metadata": {},
   "outputs": [],
   "source": [
    "url = \"https://www.kurly.com/collections/market-best\"\n",
    "url2 = \"https://www.coupang.com/np/categories/194282\"\n",
    "url3 = \"https://finance.naver.com/sise/\""
   ]
  },
  {
   "cell_type": "code",
   "execution_count": 24,
   "metadata": {},
   "outputs": [
    {
     "data": {
      "text/plain": [
       "'https://www.11st.co.kr/products/3766901162?inpu=&trTypeCd=22&trCtgrNo=895019'"
      ]
     },
     "execution_count": 24,
     "metadata": {},
     "output_type": "execute_result"
    }
   ],
   "source": [
    "url = \"https://www.11st.co.kr/browsing/BestSeller.tmall?method=getBestSellerMain&cornerNo=1\"\n",
    "res = requests.get(url)\n",
    "soup = BeautifulSoup(res.text, 'lxml')\n",
    "food_list = soup.find('div', class_=\"best_prd_box\").find_all('li')\n",
    "food_list[0].a['href']"
   ]
  },
  {
   "cell_type": "code",
   "execution_count": 29,
   "metadata": {},
   "outputs": [
    {
     "data": {
      "text/plain": [
       "'품질보장! 경북 영천 샤인머스켓 1kg (2수)'"
      ]
     },
     "execution_count": 29,
     "metadata": {},
     "output_type": "execute_result"
    }
   ],
   "source": [
    "food_list[0].p.text.strip()"
   ]
  },
  {
   "cell_type": "code",
   "execution_count": 30,
   "metadata": {},
   "outputs": [
    {
     "name": "stdout",
     "output_type": "stream",
     "text": [
      "['https://www.11st.co.kr/products/3766901162?inpu=&trTypeCd=22&trCtgrNo=895019', 'https://www.11st.co.kr/products/3669960351?inpu=&trTypeCd=22&trCtgrNo=895019', 'https://www.11st.co.kr/products/3656495612?inpu=&trTypeCd=22&trCtgrNo=895019', 'https://www.11st.co.kr/products/4994365545?inpu=&trTypeCd=22&trCtgrNo=895019', 'https://www.11st.co.kr/products/1433294003?inpu=&trTypeCd=22&trCtgrNo=895019']\n",
      "['품질보장! 경북 영천 샤인머스켓 1kg (2수)', '[어가찬] 국내산 고바,가이리,지리 멸치 1.5kg / 원물박스', '[동철원농협] 23년햅쌀 철원오대쌀 10kg 당일도정', '[품질보장] 경북 청도 반시 4.5kg 41-50과 / 가을철 대표 과일 / 씨 없는 반시', '늘해랑 달콤한 꿀고구마/호박고구마  3kg 5kg']\n"
     ]
    },
    {
     "data": {
      "text/plain": [
       "(None, None)"
      ]
     },
     "execution_count": 30,
     "metadata": {},
     "output_type": "execute_result"
    }
   ],
   "source": [
    "urls =[]\n",
    "names = []\n",
    "for food in food_list[:5]:\n",
    "    urls.append(food.a['href'])\n",
    "    names.append(food.p.text.strip())\n",
    "\n",
    "print(urls), print(names)"
   ]
  },
  {
   "cell_type": "code",
   "execution_count": 34,
   "metadata": {},
   "outputs": [
    {
     "name": "stdout",
     "output_type": "stream",
     "text": [
      "['품질', '보장', '경북', '영천', '샤인', '머스켓', '수']\n",
      "['어가', '찬', '국내', '산', '바', '지리', '멸치', '물', '박스']\n",
      "['철원', '농협', '철원', '쌀', '당일', '도정']\n",
      "['품질', '보장', '경북', '청도', '반시', '과', '가을', '철', '대표', '과일', '씨', '반시']\n",
      "['늘', '해랑', '꿀', '고구마', '호박고구마']\n"
     ]
    }
   ],
   "source": [
    "for i in names:\n",
    "    print(okt.nouns(i))"
   ]
  },
  {
   "cell_type": "code",
   "execution_count": 35,
   "metadata": {},
   "outputs": [
    {
     "name": "stdout",
     "output_type": "stream",
     "text": [
      "['품질보장!', '경북', '영천', '샤인머스켓', '1kg', '(2수)']\n",
      "['[어가찬]', '국내산', '고바,가이리,지리', '멸치', '1.5kg', '/', '원물박스']\n",
      "['[동철원농협]', '23년햅쌀', '철원오대쌀', '10kg', '당일도정']\n",
      "['[품질보장]', '경북', '청도', '반시', '4.5kg', '41-50과', '/', '가을철', '대표', '과일', '/', '씨', '없는', '반시']\n",
      "['늘해랑', '달콤한', '꿀고구마/호박고구마', '3kg', '5kg']\n"
     ]
    }
   ],
   "source": [
    "for i in names:\n",
    "    print(i.split())"
   ]
  },
  {
   "cell_type": "code",
   "execution_count": 64,
   "metadata": {},
   "outputs": [],
   "source": [
    "res = requests.get(urls[0])\n",
    "soup = BeautifulSoup(res.text, 'lxml')\n",
    "soup.find('div', class_='l_product_divide_wrap')"
   ]
  },
  {
   "cell_type": "code",
   "execution_count": 76,
   "metadata": {},
   "outputs": [
    {
     "data": {
      "text/plain": [
       "[<strong aria-label=\"현재페이지\">1</strong>,\n",
       " <strong class=\"text_num\">897</strong>,\n",
       " <strong>찜</strong>,\n",
       " <strong>찜</strong>,\n",
       " <strong>\n",
       " <span class=\"value\">9,900</span><span class=\"unit\">원</span>\n",
       " </strong>,\n",
       " <strong>무료배송</strong>,\n",
       " <strong class=\"text_em2\">내일 10/11(수)</strong>,\n",
       " <strong>품질보장! 샤인머스켓 1kg (2수) 가정용\n",
       "             </strong>,\n",
       " <strong>\n",
       " <span class=\"value ui_total_price\" name=\"totalPriceArea\">0\n",
       "                         </span>\n",
       " <span class=\"unit\">원\n",
       "                     </span>\n",
       " </strong>,\n",
       " <strong>\n",
       " <span class=\"value ui_total_price\" name=\"totalPriceArea\">0\n",
       "                     </span>\n",
       " <span class=\"unit\">원\n",
       "                     </span>\n",
       " </strong>,\n",
       " <strong>\n",
       " <span class=\"value ui_total_price\" name=\"totalMembershipPriceArea\">0\n",
       "                     </span>\n",
       " <span class=\"unit\">원\n",
       "                     </span>\n",
       " </strong>,\n",
       " <strong>34,000P</strong>,\n",
       " <strong>34,000P</strong>,\n",
       " <strong></strong>,\n",
       " <strong></strong>,\n",
       " <strong></strong>,\n",
       " <strong></strong>,\n",
       " <strong></strong>,\n",
       " <strong></strong>]"
      ]
     },
     "execution_count": 76,
     "metadata": {},
     "output_type": "execute_result"
    }
   ],
   "source": [
    "soup.find_all('strong')\n"
   ]
  },
  {
   "cell_type": "code",
   "execution_count": 49,
   "metadata": {},
   "outputs": [
    {
     "data": {
      "text/plain": [
       "'품질보장! 경북 영천 샤인머스켓 1kg (2수) 본문 바로가기 시각장애인을 위해 상품 이미지 설명에 대한 음성 안내 기능이 상품정보탭에 제공되었습니다. 상품설명 음성 안내 기능 바로가기 맛꾼푸드 긍정리뷰 92.2% 응답률 100% 판매량 총 5점 중 4점 정보 보기 판매자 정보 긍정리뷰 고객이 판매자를 평가한 판매자리뷰 중 긍정적 리뷰(4~5점 리뷰) 비율 (최근 365일 기준) 24시간내 응답 상품 Q&A 문의에 24시간 내 응답한 비율 (최근 30일 기준) 판매량 판매자의 판매건수와 판매금액을 반영하여, 판매량을 5단계로 측정 (최근 365일 기준) 판매량은 5단계(가장 높은 판매량) ~ 1단계(낮은 판매량)로 노출 닫기 스토어 찜 찜하기 9,999+ 닫기 상품 카테고리 정보 쇼킹딜홈 > 식품 카테고리 목록 열기 여성의류 남성의류 패션잡화 뷰티 식품 출산/유아 생활주방 도서 가구/홈데코 스포츠/레저 자동차/취미 디지털 가전 여행/티켓 e쿠폰/상품권 상품 요약 정보 총 이미지 수 4 추천 리뷰 semy** 판매자 평점 별5개 중 4 배송이 조금 불안했지만 목요일 구매. 토요일 배송완료였구요. 2kg시켰는데 3수왔고, 1수만 좀큰편이고 2수는 작네요 3수 총 2.2kg정도입니다. 박스무게 포함 2.8kg으로 왔구요 제가 받은건 신선하고 맛있었는데 알이 큰거라 알작은 2수는 아직 먹진못했습니다. 총 이미지 수 3 추천 리뷰 msi8** 판매자 평점 별5개 중 5 알이 상하지 않게 포장도 잘 돼서 맘에 들고 1.5kg 주문해서 2송이 왔구요 큰거는 거의 1kg 가까이 되더라구요 나머지 한개는 비교적 작지만 1.5kg 맞춰서 잘 보내주셨습니다 알알이 다 싱싱하고 향도 좋고 맛도 좋네요 재구매 의사 있습니다? 총 이미지 수 4 추천 리뷰 so7y** 판매자 평점 별5개 중 3 주문을 하고 어제 집 앞 마트 갔더니 샤인머스켓 2키로 넘는게 15,800원 이더라구요 ㅋㅋㅋㅋ;; 상당히 당황했습니다. ㅎ 그 집꺼도 맛있는데 ㅎㅎ 그래서 쫌 많이 아쉬웠어용. 샤인머스켓 몇달전만 해도 비싸더니 요즘 여기저기 엄청 내려서 싸네요. 도착한 샤인머스켓 알이 크고 실합니다. 다만 껍질이 질겨서 뱉어야 합니다. 평소 샤인머스켓은 껍찔째 먹었었거든요. 무게는 쟤보니 2003g나오네요. 당도는 기존에 다른 샤인머스켓 먹었던거보다 많이 떨어집니다. 덜 달아서인지 풀냄새가 좀 나네요. 모양은 실한데 그 점이 아쉽네요. 재구매는 안할. 추천 리뷰 블랑슈 판매자 평점 별5개 중 5 배송예정이 23일로 돼 있어서.. 식겁했는데 다행히 오늘 배송 됐어요! 선물할 건 아니었지만 상할까봐서요.. 보통 시중에 3수 2k는 3만원대인데 3수를 사야 실패가 없어서 3수를 선호합니다. 택배배송이라 걱정했는데 싱싱하게 잘 왔습니다. 포장도 든든합니다 배송일이 늦어질거 같아 오전에 시장가서 한박스 사왔는데 그게 좀 안타깝네요. 최대한 빨리 먹어야죠.. 총 이미지 수 3 추천 리뷰 모래시계 판매자 평점 별5개 중 4 상품 좋아요~ 3수 왔는데 알도 다 크고 몇개 떨어진건 있지만 맛도 좋고 상태도 굿이고 싱싱합니다 한알이 벌레 먹은게 있는데 그정돈 애교죠ㅋ 넘 맘에 들어서 지금 한상자 더 주문할 예정입니다. 총 이미지 수 2 추천 리뷰 비앙뜨 판매자 평점 별5개 중 5 달달하니 맛있어요. 동네과일가게에서 산것보다 훨씬 달고 포도 알도 크네요. 택배기사님이 신경을 많이 써줘서 터진것 없이 잘받았습니다. 이젠 저장 상품이라 싱싱함은 좀덜하네요. 총 이미지 수 2 추천 리뷰 sple** 판매자 평점 별5개 중 5 포장 완전대박이네요 떨어질까봐 부서질까봐 안전하게 배송되어 왔어요 상자가 너무크긴하네요 2송이들었어요 달고 맛도 정말좋아요 잘못사면 단맛이 별로인데도 있던데 너무맛있어요 총 이미지 수 2 추천 리뷰 솔이솔이맘 판매자 평점 별5개 중 4 지난번에 구매하고 배송상태도 좋고 알도 굵고 맛도 있어서 재구매 했네요~ 그런데..이번엔 송이는 큰데 알이 좀 작네요. 맛은 아직 안봐서... 그래도 싱심해보여서 좋네요~ 추천 리뷰 ksrs** 판매자 평점 별5개 중 4 배송은 2일만에 빠르게 왔습니다! 진공포장으로 안전하게 왔고요 다른 분들 후기처럼 하나는 알도크고 송이도 크고요 나머지 두 개는 송이도 작고 알이 작진 않지만 옹골차게 알이 많지는 않고 듬성듬성 떨어져있고 알이 몇개 없네요 맛은 오자마자 떨어진 것들 맛 보았는데 괜찮았습니다 달아요~~근데 더 달달해지게 후숙해서 먹으려고 바로 냉장고에 넣지 않았어요 ㅎㅎㅎ 생각해보니 3송이에 3만원이면 한 송이에 만원돈인데 대형마트에서 한송이씩 8-9천원 가격에 사는 것도 나을 것 같다는 생각이 들었네요 전반적으로는 좋은 구매였습니다 총 이미지 수 2 추천 리뷰 qa14** 판매자 평점 별5개 중 5 쿠폰써서 저렴하게샀어요 만져보니 껍질이 싱싱하고 탱탱해요 3송이 들어있고 한송이는 사이즈가 커요 맛있게잘먹을게요~ 1 전체 페이지 10 이전 다음 리뷰 더보기 쇼킹딜 현재 구매상품2,785개 구매 정보 보기 구매수량 본 상품이 쇼킹딜 기간동안 판매된 총 누적 수량 입니다. (최대 180일 주문완료 기준, 일부 카테고리 제외) 단, 판매가격은 본사정책에 의해 일부 변경될 수 있습니다. 닫기 더보기 상품에 적용된 프로모션 ↓즉시할인중 긴급공수 과일 베스트 1위 판매자 평점 별5개 중 4.6개 897 리뷰 보기 23년 맛좋은 인기 과일! 품질보장! 경북 영천 샤인머스켓 1kg (2수) 찜하기 찜 완료 찜이 되었습니다. 찜한상품 전체보기 닫기 찜해제 완료 찜이 취소 되었습니다. 닫기 공유하기 공유하기 페이스북 트위터 카카오스토리 복사 닫기 할인율 37% 할인모음가 9,900원 판매가 15,900원 쿠폰보기 무료배송 구매조건에 따라 배송비 차등부과 도서산간배송 추가운송비지역상세보기도서산간배송 추가운송비제주지역4,000원도서산간지역4,000원 닫기 내일 10/11(수) 도착 예정 정보 보기 배송 안내 - 판매자, 택배사 사정으로 예측치와 다를 수 있습니다. 닫기 (09시까지 주문 시) 한진택배 원산지 국내 혜택 11번가 신한카드 첫 결제할인 + 최대 2% 적립 11번가 신한카드 첫 결제할인 + 최대 2% 적립 11번가 신한카드 SK pay 첫 결제 할인~!! 신용카드 25,000원 할인 체크카드 5,000원 할인 11번가 신한카드 SK pay 결제 시 신용카드 2% (특별적립 1% + 추가적립 1%) 체크카드 1% (특별적립 0.5% + 추가적립 0.5%) 적립 안내사항 당월(1일~말일)매출 접수된 건에 대해 익월 20일 24시까지 적립됩니다. 카드 매출 취소된 경우 해당 금액만큼 발생된 예정 포인트를 제외하고 적립되며 포인트 적립 이후 카드 매입 취소 발생 했을 경우 익월 적립 시점에 ‘구매적립취소’ 항목으로 포인트 차감 되어집니다. 포인트 적립제외 할부 이용거래 마이신한포인트 또는 SKpay포인트 사용(전액, 일부) 시 포인트 사용 분, 선불전자지급수단 충전금액 단기카드대출(현금서비스), 장기카드대출(카드론), 연회비, 각종수수료 ㆍ 이자(할부수수료, SMS이용수수료, 연체이자 등), 선불카드 충전, 기프트카드 구매, 국세, 지방세, 아파트관리비, 도시가스, 전기료, 4대보험, 대학교(대학원)등록금 닫기 L.POINT 사용 L.POINT 사용 주문서에서 L.POINT 사용 시, 해당 금액만큼 L.POINT가 차감됩니다. (1 L.POINT = 1원) 단, 상품상세에서 SK pay 버튼 클릭 후 주문하는 경우, L.POINT 사용할 수 없습니다. L.POINT 사용은 보유하고 있는 잔액 내에서 이용할 수 있습니다. (상품금액 및 배송비 적용가능) 닫기 우주패스 멤버십 우주패스 34,000P 받고 쇼핑하기! 시작하기 혜택정보 가입 시 SK pay point 34,000P 즉시 적립 매월 아마존 2만원 이상 구매시 5천원 할인 쿠폰 아마존 상품 무료배송 슈팅배송 반품/교환 무료 셀러 상품 맛꾼푸드 긍정리뷰 92.2% 응답률 100% 판매량 총 5점 중 4점 정보 보기 판매자 정보 긍정리뷰 고객이 판매자를 평가한 판매자리뷰 중 긍정적 리뷰(4~5점 리뷰) 비율 (최근 365일 기준) 24시간내 응답 상품 Q&A 문의에 24시간 내 응답한 비율 (최근 30일 기준) 판매량 판매자의 판매건수와 판매금액을 반영하여, 판매량을 5단계로 측정 (최근 365일 기준) 판매량은 5단계(가장 높은 판매량) ~ 1단계(낮은 판매량)로 노출 닫기 스토어 바로가기 판매자 인기 상품 상세 정보 상품정보 리뷰 (897) Q&A (382) 판매자정보 (반품/교환) 상품설명 음성 안내 상품설명 음성안내 상품정보 상품 일반 정보 테이블 상품상태새상품상품번호3766901162배송방법택배배송가능지역전국(제주 도서산간지역 제외)영수증발행온라인 현금영수증 발급원산지국내제조일자/유효기간판매자에게 문의A/S안내- 제품 수령 후 문제가 있을 경우 수령 후 3일 이내 사진 한 장만 찍어주시고 고객센터 070-4268-3301로 연락주시면 빠르게 해결해드리고 있습니다. 판매자정보(반품/교환) 반품/교환 정보 반품/교환 정보 테이블 반품/교환 배송비 (구매자귀책) 3,000원/6,000원 초기배송비 무료시 반품배송비 부과방법 : 왕복(편도x2) 반품/교환지 주소 06665 서울특별시 서초구 효령로33길 23 (방배동,링컨하우스) 3층 반품/교환 안내 - 신선식품 특성상 산지 상황에 따라 발송일이 2~3일 연장 될 수 있습니다. - 제품에 문제가 있을 경우 100% 반품 및 환불을 보장합니다. 다만, 구매자 변심에 의한 경우 신선식품은 반품이 어려울 수 있는 점 양해부탁드립니다. - 대부분 상품이 오전 9시 30분 이전 주문시 당일 발송하고 있지만 상품 특성에 따라 발송일 정책이 달라질 수 있으니 반드시 상품 상세페이지에 배송안내 부분을 확인해주세요 - 맛군의 모든 상품은 생산지에서 \\\\\"산지직송\\\\\" 반품/교환 기준 상품 수령 후 7일 이내에 신청하실 수 있습니다. 단, 제품이 표시·광고 내용과 다르거나, 계약과 다르게 이행된 경우는 제품 수령일부터 3개월 이내, 그 사실을 안 날 또는 알 수 있었던 날부터 30일 이내에 교환/반품이 가능합니다. 추가적으로 다음의 경우 해당하는 반품/교환은 신청이 불가능할 수 있습니다. 소비자의 책임 있는 사유로 상품 등이 멸실 또는 훼손된 경우 (단지, 상품 확인을 위한 포장 훼손 제외) 소비자의 사용 또는 소비에 의해 상품 등의 가치가 현저히 감소한 경우 시간의 경과에 의해 재판매가 곤란할 정도로 상품 등의 가치가 현저히 감소한 경우 복제가 가능한 상품 등의 포장을 훼손한 경우 소비자의 주문에 따라 개별적으로 생산되는 상품이 제작에 들어간 경우 11번가 반품/교환 이용방법 반품/교환신청은 나의 11번가 주문내역에서 신청하실 수 있습니다... 신청하러가기 반품절차 1 신청 나의 11번가 주문내역에서 원하는 상품 \\'반품신청\\' 클릭 2 접수 사유와 수거지 입력, 상품의 발송 여부 및 배송비 결제 방법 선택 3 발송 배송업체에서 상품 수거 4 완료 판매자 확인 후 반품 처리 완료 교환절차 1 교환 신청 나의 11번가 주문내역 에서 원하는 상품의 \\'교환신청\\' 클릭 2 교환 접수 사유와 수거지 입력, 상품의 발송 여부 및 배송비 결제 방법 선택 3 발송 배송업체에서 상품 수거 4 상품 재배송 판매자 확인 후 교환할 상품을 고객에게 발송 5 교환 완료 교환 상품 배송 완료 후 교환 처리 완료 판매자정보 판매자정보 테이블 판매자 맛꾼푸드 상호명/대표자 (주)포라 │ 유준재 사업자구분 법인사업자 고객문의 대표번호 070-4322-4358 사업자등록번호 2048650412 통신판매업신고 2018-서울서초-0797 E-Mail cs@fora.co.kr 고객문의 가능시간 10시 ~ 18시 (점심시간, 토요일, 일요일, 공휴일 제외) 영업소재지 서울특별시 서초구 효령로33길 23 (방배동,링컨하우스) 3층 11번가 결제대금예치업 등록번호: 02-006-00022 11번가는 전자금융거래법에 따라 금융감독(원)위원회에 결제대금예치업을 등록(등록번호:02-006-000022)하였으며, 모든 입점 판매자는 자동적으로 동 서비스에 가입하였습니다. 본 판매자는 고객님의 안전거래를 위해 구매금액, 결제수단에 상관없이 모든 거래에 대하여 저희 11번가 쇼핑몰이 가입한 11번가(주)의 구매안전 서비스를 자동으로 적용하고 있습니다. 구매시 주의사항 「전자상거래 등에서의 소비자보호에 관한 법률」에 의한 반품규정이 판매자가 지정한 반품조건보다 우선합니다. 미성년자가 물품을 구매하는 경우, 법정대리인이 동의하지 않으면 미성년자 본인 또는 법정대리인이 구매를 취소할 수 있습니다. 공산품, 전기용품 등 인증대상 상품을 구매하실 경우 \\'전기용품 및 생활용품 안전관리법\\' 등 관련 법률에 따라 허가 받은 상품인지 확인하시기 바랍니다. 11번가의 결제시스템을 이용하지 않고 판매자와 직접거래 하실 경우 상품을 받지 못하거나. 구매한 상품과 상이한 상품을 받는 등 피해가 발생 할 수 있으니 유의하시기 바랍니다. 등록된 판매물품과 내용은 판매자가 등록한 것으로 11번가(주)가 운영하는 11번가에 등록된 내용에 대하여 일체의 책임을 지지 않습니다. 11번가 지식재산권보호센터 11번가는 지식재산권 보호를 위해 노력하고 있습니다. 본인의 지식 재산권을 침해한 상품이 있을 시 신고가 가능합니다. 지식재산권보호센터 바로가기 11번가 안전거래센터 11번가는 소비자보호를 위해 안전 거래센터를 운영하고 있습니다. 안전거래와 관련된 궁금한 사항이 있으시면 방문해 주시기 바랍니다. 바로가기 11번가 신고센터 11번가 위해상품정보검색 11번가는 안전한 상품 판매를 위해 상품정보를 제공하고 있습니다. 11번가에서 걱정없이 편리하고 안전한 쇼핑하세요. 바로가기 사이버범죄 예방정보 안내 바로가기 옵션 선택 및 주문하기 ※고당도 샤인머스켓※ 옵션 보기 품질보장! 샤인머스켓 1kg (2수) 가정용 판매가 9,900 원 선택하기 총 0개 할인모음가 0 원 총 0개 일반 판매가 0 원 우주패스 회원가 0 원 적용 가능한 쿠폰 없음 적용 가능한 쿠폰 없음 쿠폰변경 무료배송 정보 보기 무료배송 총 상품금액에 배송비는 포함 되어 있지 않습니다. 닫기 장바구니 상품을 장바구니에 담았습니다. 장바구니 바로가기 닫기 우주패스 가입 시 34,000P 즉시 적립 구매하기 선물 우주패스 가입 시 34,000P 즉시 적립 우주패스로 할인받기 데이터를 로딩중입니다. 파워링크 AD 신청하기 장바구니에 담기 장바구니에 담았습니다. 보이지 않기 장바구니 바로가기 개인정보 수집 및 이용 동의 개인정보 수집 및 이용 동의 닫기 우주패스ONLY 상품입니다. 우주패스 가입자만 구매 가능합니다.(패밀리 멤버는 구매불가) 우주패스 시작하기 우주패스 전용안내 닫기'"
      ]
     },
     "execution_count": 49,
     "metadata": {},
     "output_type": "execute_result"
    }
   ],
   "source": [
    "import re\n",
    "\n",
    "c_text = ' '.join(re.sub(r'\\s', ' ', soup.text.strip()).split())\n",
    "c_text"
   ]
  },
  {
   "cell_type": "code",
   "execution_count": 57,
   "metadata": {},
   "outputs": [
    {
     "name": "stdout",
     "output_type": "stream",
     "text": [
      "3 품질\n",
      "4 보장\n",
      "2 경북\n",
      "2 영천\n",
      "9 샤인\n",
      "9 머스켓\n",
      "62 수\n"
     ]
    }
   ],
   "source": [
    "for i in okt.nouns(names[0]):\n",
    "    print(soup.text.count(i), i)"
   ]
  },
  {
   "cell_type": "code",
   "execution_count": 59,
   "metadata": {},
   "outputs": [
    {
     "name": "stdout",
     "output_type": "stream",
     "text": [
      "3 품질보장!\n",
      "2 경북\n",
      "2 영천\n",
      "9 샤인머스켓\n",
      "4 1kg\n",
      "3 (2수)\n"
     ]
    }
   ],
   "source": [
    "for i in names[0].split():\n",
    "    print(soup.text.count(i), i)"
   ]
  }
 ],
 "metadata": {
  "kernelspec": {
   "display_name": "Python 3",
   "language": "python",
   "name": "python3"
  },
  "language_info": {
   "codemirror_mode": {
    "name": "ipython",
    "version": 3
   },
   "file_extension": ".py",
   "mimetype": "text/x-python",
   "name": "python",
   "nbconvert_exporter": "python",
   "pygments_lexer": "ipython3",
   "version": "3.11.1"
  },
  "orig_nbformat": 4
 },
 "nbformat": 4,
 "nbformat_minor": 2
}
